{
 "cells": [
  {
   "cell_type": "code",
   "execution_count": 1,
   "id": "671b0221",
   "metadata": {
    "execution": {
     "iopub.execute_input": "2024-06-14T18:53:50.334926Z",
     "iopub.status.busy": "2024-06-14T18:53:50.334340Z",
     "iopub.status.idle": "2024-06-14T18:54:04.442011Z",
     "shell.execute_reply": "2024-06-14T18:54:04.441224Z"
    },
    "papermill": {
     "duration": 14.122079,
     "end_time": "2024-06-14T18:54:04.444326",
     "exception": false,
     "start_time": "2024-06-14T18:53:50.322247",
     "status": "completed"
    },
    "tags": []
   },
   "outputs": [
    {
     "name": "stderr",
     "output_type": "stream",
     "text": [
      "2024-06-14 18:53:54.608550: E external/local_xla/xla/stream_executor/cuda/cuda_dnn.cc:9261] Unable to register cuDNN factory: Attempting to register factory for plugin cuDNN when one has already been registered\n",
      "2024-06-14 18:53:54.608671: E external/local_xla/xla/stream_executor/cuda/cuda_fft.cc:607] Unable to register cuFFT factory: Attempting to register factory for plugin cuFFT when one has already been registered\n",
      "2024-06-14 18:53:54.755221: E external/local_xla/xla/stream_executor/cuda/cuda_blas.cc:1515] Unable to register cuBLAS factory: Attempting to register factory for plugin cuBLAS when one has already been registered\n"
     ]
    }
   ],
   "source": [
    "import os\n",
    "import json\n",
    "import pandas as pd\n",
    "import numpy as np\n",
    "import matplotlib.pyplot as plt\n",
    "import nltk\n",
    "from nltk.corpus import stopwords\n",
    "from sklearn.model_selection import train_test_split\n",
    "from sklearn.preprocessing import LabelEncoder\n",
    "from sklearn.metrics import accuracy_score, confusion_matrix, classification_report\n",
    "import seaborn as sns\n",
    "\n",
    "import tensorflow as tf\n",
    "from tensorflow.keras.models import Sequential\n",
    "from tensorflow.keras.layers import Embedding, LSTM, Dense, SpatialDropout1D\n",
    "from tensorflow.keras.preprocessing.text import Tokenizer\n",
    "from tensorflow.keras.preprocessing.sequence import pad_sequences"
   ]
  },
  {
   "cell_type": "code",
   "execution_count": 2,
   "id": "8022e038",
   "metadata": {
    "execution": {
     "iopub.execute_input": "2024-06-14T18:54:04.467134Z",
     "iopub.status.busy": "2024-06-14T18:54:04.466616Z",
     "iopub.status.idle": "2024-06-14T18:54:04.476011Z",
     "shell.execute_reply": "2024-06-14T18:54:04.475301Z"
    },
    "papermill": {
     "duration": 0.022592,
     "end_time": "2024-06-14T18:54:04.477898",
     "exception": false,
     "start_time": "2024-06-14T18:54:04.455306",
     "status": "completed"
    },
    "tags": []
   },
   "outputs": [],
   "source": [
    "# Getting the Arabic stopwords from NLTK\n",
    "stop_words = set(stopwords.words('arabic'))"
   ]
  },
  {
   "cell_type": "markdown",
   "id": "083dae0d",
   "metadata": {
    "papermill": {
     "duration": 0.010182,
     "end_time": "2024-06-14T18:54:04.498390",
     "exception": false,
     "start_time": "2024-06-14T18:54:04.488208",
     "status": "completed"
    },
    "tags": []
   },
   "source": [
    "### **AFND Dataset**"
   ]
  },
  {
   "cell_type": "code",
   "execution_count": 3,
   "id": "d9253304",
   "metadata": {
    "execution": {
     "iopub.execute_input": "2024-06-14T18:54:04.521050Z",
     "iopub.status.busy": "2024-06-14T18:54:04.520768Z",
     "iopub.status.idle": "2024-06-14T18:54:04.524687Z",
     "shell.execute_reply": "2024-06-14T18:54:04.523828Z"
    },
    "papermill": {
     "duration": 0.01811,
     "end_time": "2024-06-14T18:54:04.526745",
     "exception": false,
     "start_time": "2024-06-14T18:54:04.508635",
     "status": "completed"
    },
    "tags": []
   },
   "outputs": [],
   "source": [
    "# Specify the path to your dataset directory\n",
    "dataset_dir = \"/kaggle/input/arabic-fake-news-dataset-afnd/AFND/Dataset\""
   ]
  },
  {
   "cell_type": "code",
   "execution_count": 4,
   "id": "9cc37913",
   "metadata": {
    "execution": {
     "iopub.execute_input": "2024-06-14T18:54:04.548342Z",
     "iopub.status.busy": "2024-06-14T18:54:04.548090Z",
     "iopub.status.idle": "2024-06-14T18:54:04.565959Z",
     "shell.execute_reply": "2024-06-14T18:54:04.565092Z"
    },
    "papermill": {
     "duration": 0.030757,
     "end_time": "2024-06-14T18:54:04.567813",
     "exception": false,
     "start_time": "2024-06-14T18:54:04.537056",
     "status": "completed"
    },
    "tags": []
   },
   "outputs": [],
   "source": [
    "# Read sources.json\n",
    "sources_file_path = '/kaggle/input/arabic-fake-news-dataset-afnd/AFND/sources.json'\n",
    "with open(sources_file_path, 'r', encoding='utf-8') as sources_file:\n",
    "    sources_data = json.load(sources_file)\n",
    "sources_df = pd.DataFrame(list(sources_data.items()), columns=['source', 'label'])"
   ]
  },
  {
   "cell_type": "code",
   "execution_count": 5,
   "id": "b849c5b9",
   "metadata": {
    "execution": {
     "iopub.execute_input": "2024-06-14T18:54:04.589441Z",
     "iopub.status.busy": "2024-06-14T18:54:04.589151Z",
     "iopub.status.idle": "2024-06-14T18:54:37.196260Z",
     "shell.execute_reply": "2024-06-14T18:54:37.195426Z"
    },
    "papermill": {
     "duration": 32.620658,
     "end_time": "2024-06-14T18:54:37.198734",
     "exception": false,
     "start_time": "2024-06-14T18:54:04.578076",
     "status": "completed"
    },
    "tags": []
   },
   "outputs": [],
   "source": [
    "# Read scraped_articles.json for each source\n",
    "articles_data = []\n",
    "\n",
    "for source in sources_df['source']:\n",
    "    scraped_articles_path = os.path.join(dataset_dir, source, 'scraped_articles.json')\n",
    "    \n",
    "    # Check if the file exists before attempting to read it\n",
    "    if os.path.exists(scraped_articles_path):\n",
    "        with open(scraped_articles_path, 'r', encoding='utf-8') as articles_file:\n",
    "            source_articles_dict = json.load(articles_file)\n",
    "            source_articles_list = source_articles_dict.get(\"articles\", [])\n",
    "            \n",
    "            # Add a 'source' key to each article\n",
    "            for article in source_articles_list:\n",
    "                article['source'] = source\n",
    "            \n",
    "            articles_data.extend(source_articles_list)\n",
    "\n",
    "# Convert articles_data to a DataFrame\n",
    "articles_df = pd.DataFrame(articles_data)"
   ]
  },
  {
   "cell_type": "code",
   "execution_count": 6,
   "id": "e3506f26",
   "metadata": {
    "execution": {
     "iopub.execute_input": "2024-06-14T18:54:37.221907Z",
     "iopub.status.busy": "2024-06-14T18:54:37.221623Z",
     "iopub.status.idle": "2024-06-14T18:54:37.390349Z",
     "shell.execute_reply": "2024-06-14T18:54:37.389488Z"
    },
    "papermill": {
     "duration": 0.182623,
     "end_time": "2024-06-14T18:54:37.392652",
     "exception": false,
     "start_time": "2024-06-14T18:54:37.210029",
     "status": "completed"
    },
    "tags": []
   },
   "outputs": [],
   "source": [
    "# Merge the articles with their sources(labels)\n",
    "merged_df = pd.merge(articles_df, sources_df, how='inner', left_on='source', right_on='source')"
   ]
  },
  {
   "cell_type": "code",
   "execution_count": 7,
   "id": "48210bba",
   "metadata": {
    "execution": {
     "iopub.execute_input": "2024-06-14T18:54:37.415075Z",
     "iopub.status.busy": "2024-06-14T18:54:37.414544Z",
     "iopub.status.idle": "2024-06-14T18:54:37.428849Z",
     "shell.execute_reply": "2024-06-14T18:54:37.427939Z"
    },
    "papermill": {
     "duration": 0.027508,
     "end_time": "2024-06-14T18:54:37.430813",
     "exception": false,
     "start_time": "2024-06-14T18:54:37.403305",
     "status": "completed"
    },
    "tags": []
   },
   "outputs": [
    {
     "data": {
      "text/html": [
       "<div>\n",
       "<style scoped>\n",
       "    .dataframe tbody tr th:only-of-type {\n",
       "        vertical-align: middle;\n",
       "    }\n",
       "\n",
       "    .dataframe tbody tr th {\n",
       "        vertical-align: top;\n",
       "    }\n",
       "\n",
       "    .dataframe thead th {\n",
       "        text-align: right;\n",
       "    }\n",
       "</style>\n",
       "<table border=\"1\" class=\"dataframe\">\n",
       "  <thead>\n",
       "    <tr style=\"text-align: right;\">\n",
       "      <th></th>\n",
       "      <th>title</th>\n",
       "      <th>text</th>\n",
       "      <th>published date</th>\n",
       "      <th>source</th>\n",
       "      <th>label</th>\n",
       "    </tr>\n",
       "  </thead>\n",
       "  <tbody>\n",
       "    <tr>\n",
       "      <th>0</th>\n",
       "      <td>المنتخب الوطني المغربي لأقل من 20 سنة يخوض تجم...</td>\n",
       "      <td>يخوض المنتخب الوطني المغربي لكرة القدم لأقل من...</td>\n",
       "      <td>2021-05-23T00:00:00</td>\n",
       "      <td>source_1</td>\n",
       "      <td>credible</td>\n",
       "    </tr>\n",
       "    <tr>\n",
       "      <th>1</th>\n",
       "      <td>وزير النقل اعمارة:السرعة عامل مسبب لحوادث السي...</td>\n",
       "      <td>ترأس عبد القادر اعمارة، وزير التجهيز و النقل و...</td>\n",
       "      <td>2021-05-22T00:00:00</td>\n",
       "      <td>source_1</td>\n",
       "      <td>credible</td>\n",
       "    </tr>\n",
       "    <tr>\n",
       "      <th>2</th>\n",
       "      <td>ميسي يؤكد أن الفوز بكأس اسبانيا كان \"نقطة تحول\"</td>\n",
       "      <td>أكد النجم الارجنتيني ليونيل ميسي أن فوز فريقه ...</td>\n",
       "      <td>2021-05-22T00:00:00</td>\n",
       "      <td>source_1</td>\n",
       "      <td>credible</td>\n",
       "    </tr>\n",
       "    <tr>\n",
       "      <th>3</th>\n",
       "      <td>دبلوماسي مغربي سابق بإسبانيا لـ2M.ma: خطأ مدري...</td>\n",
       "      <td>أكّد الدبلوماسي المغربي السابق بإسبانيا، عبد ا...</td>\n",
       "      <td>2021-05-22T00:00:00</td>\n",
       "      <td>source_1</td>\n",
       "      <td>credible</td>\n",
       "    </tr>\n",
       "    <tr>\n",
       "      <th>4</th>\n",
       "      <td>شركتان، فرنسية وبريطانية تعلنان عن نتائج إيجاب...</td>\n",
       "      <td>أعلنت شركتا سانوفي الفرنسية العملاقة في تصنيع ...</td>\n",
       "      <td>2021-05-17T00:00:00</td>\n",
       "      <td>source_1</td>\n",
       "      <td>credible</td>\n",
       "    </tr>\n",
       "  </tbody>\n",
       "</table>\n",
       "</div>"
      ],
      "text/plain": [
       "                                               title  \\\n",
       "0  المنتخب الوطني المغربي لأقل من 20 سنة يخوض تجم...   \n",
       "1  وزير النقل اعمارة:السرعة عامل مسبب لحوادث السي...   \n",
       "2    ميسي يؤكد أن الفوز بكأس اسبانيا كان \"نقطة تحول\"   \n",
       "3  دبلوماسي مغربي سابق بإسبانيا لـ2M.ma: خطأ مدري...   \n",
       "4  شركتان، فرنسية وبريطانية تعلنان عن نتائج إيجاب...   \n",
       "\n",
       "                                                text       published date  \\\n",
       "0  يخوض المنتخب الوطني المغربي لكرة القدم لأقل من...  2021-05-23T00:00:00   \n",
       "1  ترأس عبد القادر اعمارة، وزير التجهيز و النقل و...  2021-05-22T00:00:00   \n",
       "2  أكد النجم الارجنتيني ليونيل ميسي أن فوز فريقه ...  2021-05-22T00:00:00   \n",
       "3  أكّد الدبلوماسي المغربي السابق بإسبانيا، عبد ا...  2021-05-22T00:00:00   \n",
       "4  أعلنت شركتا سانوفي الفرنسية العملاقة في تصنيع ...  2021-05-17T00:00:00   \n",
       "\n",
       "     source     label  \n",
       "0  source_1  credible  \n",
       "1  source_1  credible  \n",
       "2  source_1  credible  \n",
       "3  source_1  credible  \n",
       "4  source_1  credible  "
      ]
     },
     "execution_count": 7,
     "metadata": {},
     "output_type": "execute_result"
    }
   ],
   "source": [
    "merged_df.head()"
   ]
  },
  {
   "cell_type": "code",
   "execution_count": 8,
   "id": "2fd03ef5",
   "metadata": {
    "execution": {
     "iopub.execute_input": "2024-06-14T18:54:37.453638Z",
     "iopub.status.busy": "2024-06-14T18:54:37.453129Z",
     "iopub.status.idle": "2024-06-14T18:54:37.458565Z",
     "shell.execute_reply": "2024-06-14T18:54:37.457691Z"
    },
    "papermill": {
     "duration": 0.018703,
     "end_time": "2024-06-14T18:54:37.460467",
     "exception": false,
     "start_time": "2024-06-14T18:54:37.441764",
     "status": "completed"
    },
    "tags": []
   },
   "outputs": [
    {
     "data": {
      "text/plain": [
       "(606912, 5)"
      ]
     },
     "execution_count": 8,
     "metadata": {},
     "output_type": "execute_result"
    }
   ],
   "source": [
    "merged_df.shape"
   ]
  },
  {
   "cell_type": "code",
   "execution_count": 9,
   "id": "413c4b1b",
   "metadata": {
    "execution": {
     "iopub.execute_input": "2024-06-14T18:54:37.482821Z",
     "iopub.status.busy": "2024-06-14T18:54:37.482580Z",
     "iopub.status.idle": "2024-06-14T18:54:38.138718Z",
     "shell.execute_reply": "2024-06-14T18:54:38.137862Z"
    },
    "papermill": {
     "duration": 0.66966,
     "end_time": "2024-06-14T18:54:38.140892",
     "exception": false,
     "start_time": "2024-06-14T18:54:37.471232",
     "status": "completed"
    },
    "tags": []
   },
   "outputs": [
    {
     "data": {
      "text/plain": [
       "Text(0, 0.5, '# of Articles')"
      ]
     },
     "execution_count": 9,
     "metadata": {},
     "output_type": "execute_result"
    },
    {
     "data": {
      "image/png": "[encoded data removed]",
      "text/plain": [
       "<Figure size 1000x500 with 1 Axes>"
      ]
     },
     "metadata": {},
     "output_type": "display_data"
    }
   ],
   "source": [
    "plt.figure(figsize=(10, 5))\n",
    "plt.bar('Not Credible Articles', len(merged_df[merged_df['label'] == 'not credible']), color='orange')\n",
    "plt.bar('Credible Articles', len(merged_df[merged_df['label'] == 'credible']), color='green')\n",
    "plt.bar('Undecided Articles', len(merged_df[merged_df['label'] == 'undecided']), color='gray')\n",
    "plt.title('Distribution of Articles', size=15)\n",
    "plt.xlabel('Articles Type', size=15)\n",
    "plt.ylabel('# of Articles', size=15)"
   ]
  },
  {
   "cell_type": "markdown",
   "id": "7fee2eb9",
   "metadata": {
    "papermill": {
     "duration": 0.010969,
     "end_time": "2024-06-14T18:54:38.163493",
     "exception": false,
     "start_time": "2024-06-14T18:54:38.152524",
     "status": "completed"
    },
    "tags": []
   },
   "source": [
    "### **Gaza Dataset**"
   ]
  },
  {
   "cell_type": "code",
   "execution_count": 10,
   "id": "f6c8da64",
   "metadata": {
    "execution": {
     "iopub.execute_input": "2024-06-14T18:54:38.187088Z",
     "iopub.status.busy": "2024-06-14T18:54:38.186787Z",
     "iopub.status.idle": "2024-06-14T18:54:38.200629Z",
     "shell.execute_reply": "2024-06-14T18:54:38.199946Z"
    },
    "papermill": {
     "duration": 0.02766,
     "end_time": "2024-06-14T18:54:38.202515",
     "exception": false,
     "start_time": "2024-06-14T18:54:38.174855",
     "status": "completed"
    },
    "tags": []
   },
   "outputs": [],
   "source": [
    "# Define the directory containing the Gaza dataset\n",
    "gaza_dataset_dir = \"/kaggle/input/gaza-dataset/gaza_dataset/Dataset\"\n",
    "\n",
    "# Read the sources.json file\n",
    "gaza_sources_file_path = '/kaggle/input/gaza-dataset/gaza_dataset/sources.json'\n",
    "with open(gaza_sources_file_path, 'r', encoding='utf-8') as gaza_sources_file:\n",
    "    gaza_sources_data = json.load(gaza_sources_file)\n",
    "gaza_sources_df = pd.DataFrame(list(gaza_sources_data['root'].items()), columns=['source', 'label'])\n"
   ]
  },
  {
   "cell_type": "code",
   "execution_count": 11,
   "id": "6eb0ec1a",
   "metadata": {
    "execution": {
     "iopub.execute_input": "2024-06-14T18:54:38.225961Z",
     "iopub.status.busy": "2024-06-14T18:54:38.225688Z",
     "iopub.status.idle": "2024-06-14T18:54:38.265971Z",
     "shell.execute_reply": "2024-06-14T18:54:38.265201Z"
    },
    "papermill": {
     "duration": 0.054207,
     "end_time": "2024-06-14T18:54:38.267917",
     "exception": false,
     "start_time": "2024-06-14T18:54:38.213710",
     "status": "completed"
    },
    "tags": []
   },
   "outputs": [],
   "source": [
    "# Read scraped_articles.json for each source\n",
    "gaza_articles_data = []\n",
    "\n",
    "for gaza_source in gaza_sources_df['source']:\n",
    "    gaza_scraped_articles_path = os.path.join(gaza_dataset_dir, gaza_source, 'scraped_articles.json')\n",
    "    \n",
    "    # Check if the file exists before attempting to read it\n",
    "    if os.path.exists(gaza_scraped_articles_path):\n",
    "        with open(gaza_scraped_articles_path, 'r', encoding='utf-8') as gaza_articles_file:\n",
    "            gaza_source_articles_dict = json.load(gaza_articles_file)\n",
    "            gaza_source_articles_list = gaza_source_articles_dict['root'].get(\"articles\", [])\n",
    "            \n",
    "            # Add a 'source' key to each article\n",
    "            for gaza_article in gaza_source_articles_list:\n",
    "                gaza_article['source'] = gaza_source\n",
    "            \n",
    "            gaza_articles_data.extend(gaza_source_articles_list)\n",
    "\n",
    "# Convert articles_data to a DataFrame\n",
    "gaza_articles_df = pd.DataFrame(gaza_articles_data)"
   ]
  },
  {
   "cell_type": "code",
   "execution_count": 12,
   "id": "ee2b1258",
   "metadata": {
    "execution": {
     "iopub.execute_input": "2024-06-14T18:54:38.291677Z",
     "iopub.status.busy": "2024-06-14T18:54:38.291403Z",
     "iopub.status.idle": "2024-06-14T18:54:38.302975Z",
     "shell.execute_reply": "2024-06-14T18:54:38.302115Z"
    },
    "papermill": {
     "duration": 0.025484,
     "end_time": "2024-06-14T18:54:38.304904",
     "exception": false,
     "start_time": "2024-06-14T18:54:38.279420",
     "status": "completed"
    },
    "tags": []
   },
   "outputs": [],
   "source": [
    "# Merge the articles with their sources(labels)\n",
    "new_merged_df = pd.merge(gaza_articles_df, gaza_sources_df, how='inner', on='source')\n",
    "\n",
    "# Reorder the columns to match the specified format\n",
    "new_merged_df = new_merged_df[['title', 'text', 'published date', 'source', 'label']]"
   ]
  },
  {
   "cell_type": "code",
   "execution_count": 13,
   "id": "6bee9cf4",
   "metadata": {
    "execution": {
     "iopub.execute_input": "2024-06-14T18:54:38.328632Z",
     "iopub.status.busy": "2024-06-14T18:54:38.327956Z",
     "iopub.status.idle": "2024-06-14T18:54:38.338294Z",
     "shell.execute_reply": "2024-06-14T18:54:38.337506Z"
    },
    "papermill": {
     "duration": 0.024121,
     "end_time": "2024-06-14T18:54:38.340272",
     "exception": false,
     "start_time": "2024-06-14T18:54:38.316151",
     "status": "completed"
    },
    "tags": []
   },
   "outputs": [
    {
     "data": {
      "text/html": [
       "<div>\n",
       "<style scoped>\n",
       "    .dataframe tbody tr th:only-of-type {\n",
       "        vertical-align: middle;\n",
       "    }\n",
       "\n",
       "    .dataframe tbody tr th {\n",
       "        vertical-align: top;\n",
       "    }\n",
       "\n",
       "    .dataframe thead th {\n",
       "        text-align: right;\n",
       "    }\n",
       "</style>\n",
       "<table border=\"1\" class=\"dataframe\">\n",
       "  <thead>\n",
       "    <tr style=\"text-align: right;\">\n",
       "      <th></th>\n",
       "      <th>title</th>\n",
       "      <th>text</th>\n",
       "      <th>published date</th>\n",
       "      <th>source</th>\n",
       "      <th>label</th>\n",
       "    </tr>\n",
       "  </thead>\n",
       "  <tbody>\n",
       "    <tr>\n",
       "      <th>0</th>\n",
       "      <td>صحفيو غزة: \"أهداف\" أم \"خسائر\" في الحرب الإسرائ...</td>\n",
       "      <td>يُقتل الصحفيون في غزة بمعدل غير مسبوق. بالإضاف...</td>\n",
       "      <td>23-12-2023</td>\n",
       "      <td>source_1</td>\n",
       "      <td>credible</td>\n",
       "    </tr>\n",
       "    <tr>\n",
       "      <th>1</th>\n",
       "      <td>إسرائيل تأمر بإخلاء \"ممر الموت\" للفلسطينيين في...</td>\n",
       "      <td>واضطر مئات الفلسطينيين إلى إخلاء مخيمي البريج ...</td>\n",
       "      <td>23-12-2023</td>\n",
       "      <td>source_1</td>\n",
       "      <td>credible</td>\n",
       "    </tr>\n",
       "    <tr>\n",
       "      <th>2</th>\n",
       "      <td>حرب إسرائيل على غزة: قائمة الأحداث الرئيسية، ا...</td>\n",
       "      <td>مجلس الأمن التابع للأمم المتحدة يصدر قرارًا لت...</td>\n",
       "      <td>23-12-2023</td>\n",
       "      <td>source_1</td>\n",
       "      <td>credible</td>\n",
       "    </tr>\n",
       "    <tr>\n",
       "      <th>3</th>\n",
       "      <td>وتتهم الولايات المتحدة إيران بالتورط بشكل عميق...</td>\n",
       "      <td>ويقول البيت الأبيض إن طهران تزود جماعة متمردة ...</td>\n",
       "      <td>23-12-2023</td>\n",
       "      <td>source_1</td>\n",
       "      <td>credible</td>\n",
       "    </tr>\n",
       "    <tr>\n",
       "      <th>4</th>\n",
       "      <td>وتواصل القوات الإسرائيلية هجماتها وسط انتقادات...</td>\n",
       "      <td>وقد تعرض القرار المخفف لتعزيز المساعدات لغزة ل...</td>\n",
       "      <td>23-12-2023</td>\n",
       "      <td>source_1</td>\n",
       "      <td>credible</td>\n",
       "    </tr>\n",
       "  </tbody>\n",
       "</table>\n",
       "</div>"
      ],
      "text/plain": [
       "                                               title  \\\n",
       "0  صحفيو غزة: \"أهداف\" أم \"خسائر\" في الحرب الإسرائ...   \n",
       "1  إسرائيل تأمر بإخلاء \"ممر الموت\" للفلسطينيين في...   \n",
       "2  حرب إسرائيل على غزة: قائمة الأحداث الرئيسية، ا...   \n",
       "3  وتتهم الولايات المتحدة إيران بالتورط بشكل عميق...   \n",
       "4  وتواصل القوات الإسرائيلية هجماتها وسط انتقادات...   \n",
       "\n",
       "                                                text published date    source  \\\n",
       "0  يُقتل الصحفيون في غزة بمعدل غير مسبوق. بالإضاف...     23-12-2023  source_1   \n",
       "1  واضطر مئات الفلسطينيين إلى إخلاء مخيمي البريج ...     23-12-2023  source_1   \n",
       "2  مجلس الأمن التابع للأمم المتحدة يصدر قرارًا لت...     23-12-2023  source_1   \n",
       "3  ويقول البيت الأبيض إن طهران تزود جماعة متمردة ...     23-12-2023  source_1   \n",
       "4  وقد تعرض القرار المخفف لتعزيز المساعدات لغزة ل...     23-12-2023  source_1   \n",
       "\n",
       "      label  \n",
       "0  credible  \n",
       "1  credible  \n",
       "2  credible  \n",
       "3  credible  \n",
       "4  credible  "
      ]
     },
     "execution_count": 13,
     "metadata": {},
     "output_type": "execute_result"
    }
   ],
   "source": [
    "new_merged_df.head()"
   ]
  },
  {
   "cell_type": "code",
   "execution_count": 14,
   "id": "75b5e362",
   "metadata": {
    "execution": {
     "iopub.execute_input": "2024-06-14T18:54:38.364435Z",
     "iopub.status.busy": "2024-06-14T18:54:38.364143Z",
     "iopub.status.idle": "2024-06-14T18:54:38.369354Z",
     "shell.execute_reply": "2024-06-14T18:54:38.368515Z"
    },
    "papermill": {
     "duration": 0.019343,
     "end_time": "2024-06-14T18:54:38.371258",
     "exception": false,
     "start_time": "2024-06-14T18:54:38.351915",
     "status": "completed"
    },
    "tags": []
   },
   "outputs": [
    {
     "data": {
      "text/plain": [
       "(3338, 5)"
      ]
     },
     "execution_count": 14,
     "metadata": {},
     "output_type": "execute_result"
    }
   ],
   "source": [
    "new_merged_df.shape"
   ]
  },
  {
   "cell_type": "code",
   "execution_count": 15,
   "id": "3ac51a08",
   "metadata": {
    "execution": {
     "iopub.execute_input": "2024-06-14T18:54:38.395486Z",
     "iopub.status.busy": "2024-06-14T18:54:38.395180Z",
     "iopub.status.idle": "2024-06-14T18:54:38.682239Z",
     "shell.execute_reply": "2024-06-14T18:54:38.681356Z"
    },
    "papermill": {
     "duration": 0.301676,
     "end_time": "2024-06-14T18:54:38.684428",
     "exception": false,
     "start_time": "2024-06-14T18:54:38.382752",
     "status": "completed"
    },
    "tags": []
   },
   "outputs": [
    {
     "data": {
      "text/plain": [
       "Text(0, 0.5, '# of Articles')"
      ]
     },
     "execution_count": 15,
     "metadata": {},
     "output_type": "execute_result"
    },
    {
     "data": {
      "image/png": "[encoded data removed]",
      "text/plain": [
       "<Figure size 1000x500 with 1 Axes>"
      ]
     },
     "metadata": {},
     "output_type": "display_data"
    }
   ],
   "source": [
    "plt.figure(figsize=(10, 5))\n",
    "plt.bar('Not Credible Articles', len(new_merged_df[new_merged_df['label'] == 'not credible']), color='orange')\n",
    "plt.bar('Credible Articles', len(new_merged_df[new_merged_df['label'] == 'credible']), color='green')\n",
    "plt.bar('Undecided Articles', len(new_merged_df[new_merged_df['label'] == 'undecided']), color='gray')\n",
    "plt.title('Distribution of Articles', size=15)\n",
    "plt.xlabel('Articles Type', size=15)\n",
    "plt.ylabel('# of Articles', size=15)"
   ]
  },
  {
   "cell_type": "markdown",
   "id": "322d7cb9",
   "metadata": {
    "papermill": {
     "duration": 0.012168,
     "end_time": "2024-06-14T18:54:38.709184",
     "exception": false,
     "start_time": "2024-06-14T18:54:38.697016",
     "status": "completed"
    },
    "tags": []
   },
   "source": [
    "### **Combining Datasets**"
   ]
  },
  {
   "cell_type": "code",
   "execution_count": 16,
   "id": "76233ee2",
   "metadata": {
    "execution": {
     "iopub.execute_input": "2024-06-14T18:54:38.735328Z",
     "iopub.status.busy": "2024-06-14T18:54:38.734689Z",
     "iopub.status.idle": "2024-06-14T18:54:38.800871Z",
     "shell.execute_reply": "2024-06-14T18:54:38.799957Z"
    },
    "papermill": {
     "duration": 0.081471,
     "end_time": "2024-06-14T18:54:38.803023",
     "exception": false,
     "start_time": "2024-06-14T18:54:38.721552",
     "status": "completed"
    },
    "tags": []
   },
   "outputs": [
    {
     "data": {
      "text/html": [
       "<div>\n",
       "<style scoped>\n",
       "    .dataframe tbody tr th:only-of-type {\n",
       "        vertical-align: middle;\n",
       "    }\n",
       "\n",
       "    .dataframe tbody tr th {\n",
       "        vertical-align: top;\n",
       "    }\n",
       "\n",
       "    .dataframe thead th {\n",
       "        text-align: right;\n",
       "    }\n",
       "</style>\n",
       "<table border=\"1\" class=\"dataframe\">\n",
       "  <thead>\n",
       "    <tr style=\"text-align: right;\">\n",
       "      <th></th>\n",
       "      <th>title</th>\n",
       "      <th>text</th>\n",
       "      <th>published date</th>\n",
       "      <th>source</th>\n",
       "      <th>label</th>\n",
       "    </tr>\n",
       "  </thead>\n",
       "  <tbody>\n",
       "    <tr>\n",
       "      <th>0</th>\n",
       "      <td>صحفيو غزة: \"أهداف\" أم \"خسائر\" في الحرب الإسرائ...</td>\n",
       "      <td>يُقتل الصحفيون في غزة بمعدل غير مسبوق. بالإضاف...</td>\n",
       "      <td>23-12-2023</td>\n",
       "      <td>source_1</td>\n",
       "      <td>credible</td>\n",
       "    </tr>\n",
       "    <tr>\n",
       "      <th>1</th>\n",
       "      <td>إسرائيل تأمر بإخلاء \"ممر الموت\" للفلسطينيين في...</td>\n",
       "      <td>واضطر مئات الفلسطينيين إلى إخلاء مخيمي البريج ...</td>\n",
       "      <td>23-12-2023</td>\n",
       "      <td>source_1</td>\n",
       "      <td>credible</td>\n",
       "    </tr>\n",
       "    <tr>\n",
       "      <th>2</th>\n",
       "      <td>حرب إسرائيل على غزة: قائمة الأحداث الرئيسية، ا...</td>\n",
       "      <td>مجلس الأمن التابع للأمم المتحدة يصدر قرارًا لت...</td>\n",
       "      <td>23-12-2023</td>\n",
       "      <td>source_1</td>\n",
       "      <td>credible</td>\n",
       "    </tr>\n",
       "    <tr>\n",
       "      <th>3</th>\n",
       "      <td>وتتهم الولايات المتحدة إيران بالتورط بشكل عميق...</td>\n",
       "      <td>ويقول البيت الأبيض إن طهران تزود جماعة متمردة ...</td>\n",
       "      <td>23-12-2023</td>\n",
       "      <td>source_1</td>\n",
       "      <td>credible</td>\n",
       "    </tr>\n",
       "    <tr>\n",
       "      <th>4</th>\n",
       "      <td>وتواصل القوات الإسرائيلية هجماتها وسط انتقادات...</td>\n",
       "      <td>وقد تعرض القرار المخفف لتعزيز المساعدات لغزة ل...</td>\n",
       "      <td>23-12-2023</td>\n",
       "      <td>source_1</td>\n",
       "      <td>credible</td>\n",
       "    </tr>\n",
       "    <tr>\n",
       "      <th>...</th>\n",
       "      <td>...</td>\n",
       "      <td>...</td>\n",
       "      <td>...</td>\n",
       "      <td>...</td>\n",
       "      <td>...</td>\n",
       "    </tr>\n",
       "    <tr>\n",
       "      <th>610245</th>\n",
       "      <td>إجراءات إيطالية صارمة ضد الجماهير الإنقليزية</td>\n",
       "      <td>شدد مسؤول إيطالي اليوم الأربعاء على ضرورة التز...</td>\n",
       "      <td>2021-06-30T11:55:00</td>\n",
       "      <td>source_134</td>\n",
       "      <td>credible</td>\n",
       "    </tr>\n",
       "    <tr>\n",
       "      <th>610246</th>\n",
       "      <td>الأزهر يحذّر من لعبة ''فورتنايت''</td>\n",
       "      <td>حذّر مركز الأزهر العالمي للفتوى الإلكرتونية، م...</td>\n",
       "      <td>2021-06-30T15:52:00</td>\n",
       "      <td>source_134</td>\n",
       "      <td>credible</td>\n",
       "    </tr>\n",
       "    <tr>\n",
       "      <th>610247</th>\n",
       "      <td>يورو 2020: بوتين يدافع عن استضافة مباريات في س...</td>\n",
       "      <td>دافع الرئيس الروسي فلاديمير بوتين عن استضافة م...</td>\n",
       "      <td>2021-06-30T15:07:00</td>\n",
       "      <td>source_134</td>\n",
       "      <td>credible</td>\n",
       "    </tr>\n",
       "    <tr>\n",
       "      <th>610248</th>\n",
       "      <td>ميركل تشعر بخيبة أمل بعد خروج منتخبها الوطني م...</td>\n",
       "      <td>شعرت المستشارة الألمانية أنجيلا ميركل \"بخيبة أ...</td>\n",
       "      <td>2021-06-30T14:58:00</td>\n",
       "      <td>source_134</td>\n",
       "      <td>credible</td>\n",
       "    </tr>\n",
       "    <tr>\n",
       "      <th>610249</th>\n",
       "      <td>الإصابة تنهي مشوار الأوكراني بيسيدين في يورو 2...</td>\n",
       "      <td>انتهى مشوار أرتيم بيسيدين لاعب المنتخب الأوكرا...</td>\n",
       "      <td>2021-06-30T14:54:00</td>\n",
       "      <td>source_134</td>\n",
       "      <td>credible</td>\n",
       "    </tr>\n",
       "  </tbody>\n",
       "</table>\n",
       "<p>610250 rows × 5 columns</p>\n",
       "</div>"
      ],
      "text/plain": [
       "                                                    title  \\\n",
       "0       صحفيو غزة: \"أهداف\" أم \"خسائر\" في الحرب الإسرائ...   \n",
       "1       إسرائيل تأمر بإخلاء \"ممر الموت\" للفلسطينيين في...   \n",
       "2       حرب إسرائيل على غزة: قائمة الأحداث الرئيسية، ا...   \n",
       "3       وتتهم الولايات المتحدة إيران بالتورط بشكل عميق...   \n",
       "4       وتواصل القوات الإسرائيلية هجماتها وسط انتقادات...   \n",
       "...                                                   ...   \n",
       "610245       إجراءات إيطالية صارمة ضد الجماهير الإنقليزية   \n",
       "610246                  الأزهر يحذّر من لعبة ''فورتنايت''   \n",
       "610247  يورو 2020: بوتين يدافع عن استضافة مباريات في س...   \n",
       "610248  ميركل تشعر بخيبة أمل بعد خروج منتخبها الوطني م...   \n",
       "610249  الإصابة تنهي مشوار الأوكراني بيسيدين في يورو 2...   \n",
       "\n",
       "                                                     text  \\\n",
       "0       يُقتل الصحفيون في غزة بمعدل غير مسبوق. بالإضاف...   \n",
       "1       واضطر مئات الفلسطينيين إلى إخلاء مخيمي البريج ...   \n",
       "2       مجلس الأمن التابع للأمم المتحدة يصدر قرارًا لت...   \n",
       "3       ويقول البيت الأبيض إن طهران تزود جماعة متمردة ...   \n",
       "4       وقد تعرض القرار المخفف لتعزيز المساعدات لغزة ل...   \n",
       "...                                                   ...   \n",
       "610245  شدد مسؤول إيطالي اليوم الأربعاء على ضرورة التز...   \n",
       "610246  حذّر مركز الأزهر العالمي للفتوى الإلكرتونية، م...   \n",
       "610247  دافع الرئيس الروسي فلاديمير بوتين عن استضافة م...   \n",
       "610248  شعرت المستشارة الألمانية أنجيلا ميركل \"بخيبة أ...   \n",
       "610249  انتهى مشوار أرتيم بيسيدين لاعب المنتخب الأوكرا...   \n",
       "\n",
       "             published date      source     label  \n",
       "0                23-12-2023    source_1  credible  \n",
       "1                23-12-2023    source_1  credible  \n",
       "2                23-12-2023    source_1  credible  \n",
       "3                23-12-2023    source_1  credible  \n",
       "4                23-12-2023    source_1  credible  \n",
       "...                     ...         ...       ...  \n",
       "610245  2021-06-30T11:55:00  source_134  credible  \n",
       "610246  2021-06-30T15:52:00  source_134  credible  \n",
       "610247  2021-06-30T15:07:00  source_134  credible  \n",
       "610248  2021-06-30T14:58:00  source_134  credible  \n",
       "610249  2021-06-30T14:54:00  source_134  credible  \n",
       "\n",
       "[610250 rows x 5 columns]"
      ]
     },
     "execution_count": 16,
     "metadata": {},
     "output_type": "execute_result"
    }
   ],
   "source": [
    "# Combine the two datasets\n",
    "combined_dataset = pd.concat([new_merged_df, merged_df], ignore_index=True)\n",
    "\n",
    "# Display the combined dataset\n",
    "combined_dataset"
   ]
  },
  {
   "cell_type": "code",
   "execution_count": 17,
   "id": "4ab103a1",
   "metadata": {
    "execution": {
     "iopub.execute_input": "2024-06-14T18:54:38.830147Z",
     "iopub.status.busy": "2024-06-14T18:54:38.829842Z",
     "iopub.status.idle": "2024-06-14T18:54:39.494296Z",
     "shell.execute_reply": "2024-06-14T18:54:39.493185Z"
    },
    "papermill": {
     "duration": 0.680693,
     "end_time": "2024-06-14T18:54:39.496953",
     "exception": false,
     "start_time": "2024-06-14T18:54:38.816260",
     "status": "completed"
    },
    "tags": []
   },
   "outputs": [
    {
     "data": {
      "text/plain": [
       "Text(0, 0.5, '# of Articles')"
      ]
     },
     "execution_count": 17,
     "metadata": {},
     "output_type": "execute_result"
    },
    {
     "data": {
      "image/png": "[encoded data removed]",
      "text/plain": [
       "<Figure size 1000x500 with 1 Axes>"
      ]
     },
     "metadata": {},
     "output_type": "display_data"
    }
   ],
   "source": [
    "plt.figure(figsize=(10, 5))\n",
    "plt.bar('Not Credible Articles', len(combined_dataset[combined_dataset['label'] == 'not credible']), color='orange')\n",
    "plt.bar('Credible Articles', len(combined_dataset[combined_dataset['label'] == 'credible']), color='green')\n",
    "plt.bar('Undecided Articles', len(combined_dataset[combined_dataset['label'] == 'undecided']), color='gray')\n",
    "plt.title('Distribution of Articles', size=15)\n",
    "plt.xlabel('Articles Type', size=15)\n",
    "plt.ylabel('# of Articles', size=15)"
   ]
  },
  {
   "cell_type": "markdown",
   "id": "dcee932e",
   "metadata": {
    "papermill": {
     "duration": 0.014157,
     "end_time": "2024-06-14T18:54:39.530082",
     "exception": false,
     "start_time": "2024-06-14T18:54:39.515925",
     "status": "completed"
    },
    "tags": []
   },
   "source": [
    "### **Pre-processing Data**"
   ]
  },
  {
   "cell_type": "code",
   "execution_count": 18,
   "id": "4a01d1f3",
   "metadata": {
    "execution": {
     "iopub.execute_input": "2024-06-14T18:54:39.558987Z",
     "iopub.status.busy": "2024-06-14T18:54:39.558455Z",
     "iopub.status.idle": "2024-06-14T18:54:39.564195Z",
     "shell.execute_reply": "2024-06-14T18:54:39.563104Z"
    },
    "papermill": {
     "duration": 0.022942,
     "end_time": "2024-06-14T18:54:39.566527",
     "exception": false,
     "start_time": "2024-06-14T18:54:39.543585",
     "status": "completed"
    },
    "tags": []
   },
   "outputs": [],
   "source": [
    "# Data Preparation\n",
    "X = combined_dataset['text']\n",
    "y = combined_dataset['label']"
   ]
  },
  {
   "cell_type": "code",
   "execution_count": 19,
   "id": "dad7c92e",
   "metadata": {
    "execution": {
     "iopub.execute_input": "2024-06-14T18:54:39.597749Z",
     "iopub.status.busy": "2024-06-14T18:54:39.597465Z",
     "iopub.status.idle": "2024-06-14T18:55:14.478232Z",
     "shell.execute_reply": "2024-06-14T18:55:14.477338Z"
    },
    "papermill": {
     "duration": 34.897753,
     "end_time": "2024-06-14T18:55:14.480911",
     "exception": false,
     "start_time": "2024-06-14T18:54:39.583158",
     "status": "completed"
    },
    "tags": []
   },
   "outputs": [],
   "source": [
    "# Remove Arabic stopwords\n",
    "X = X.apply(lambda text: ' '.join([word for word in text.split() if word not in stop_words]))"
   ]
  },
  {
   "cell_type": "code",
   "execution_count": 20,
   "id": "3dbbec8a",
   "metadata": {
    "execution": {
     "iopub.execute_input": "2024-06-14T18:55:14.510737Z",
     "iopub.status.busy": "2024-06-14T18:55:14.510408Z",
     "iopub.status.idle": "2024-06-14T18:55:14.661306Z",
     "shell.execute_reply": "2024-06-14T18:55:14.660522Z"
    },
    "papermill": {
     "duration": 0.167868,
     "end_time": "2024-06-14T18:55:14.663386",
     "exception": false,
     "start_time": "2024-06-14T18:55:14.495518",
     "status": "completed"
    },
    "tags": []
   },
   "outputs": [],
   "source": [
    "# Use LabelEncoder to convert labels to numerical format\n",
    "label_encoder = LabelEncoder()\n",
    "y_encoded = label_encoder.fit_transform(y)"
   ]
  },
  {
   "cell_type": "code",
   "execution_count": 21,
   "id": "7b4c5d2d",
   "metadata": {
    "execution": {
     "iopub.execute_input": "2024-06-14T18:55:14.693915Z",
     "iopub.status.busy": "2024-06-14T18:55:14.692823Z",
     "iopub.status.idle": "2024-06-14T18:55:14.763004Z",
     "shell.execute_reply": "2024-06-14T18:55:14.762203Z"
    },
    "papermill": {
     "duration": 0.088251,
     "end_time": "2024-06-14T18:55:14.765235",
     "exception": false,
     "start_time": "2024-06-14T18:55:14.676984",
     "status": "completed"
    },
    "tags": []
   },
   "outputs": [],
   "source": [
    "# Split into training and testing sets\n",
    "X_train, X_test, y_train, y_test = train_test_split(X, y_encoded, test_size=0.2, random_state=42)"
   ]
  },
  {
   "cell_type": "code",
   "execution_count": 22,
   "id": "8a57c2a0",
   "metadata": {
    "execution": {
     "iopub.execute_input": "2024-06-14T18:55:14.794026Z",
     "iopub.status.busy": "2024-06-14T18:55:14.793685Z",
     "iopub.status.idle": "2024-06-14T18:58:02.597808Z",
     "shell.execute_reply": "2024-06-14T18:58:02.596917Z"
    },
    "papermill": {
     "duration": 167.821376,
     "end_time": "2024-06-14T18:58:02.600299",
     "exception": false,
     "start_time": "2024-06-14T18:55:14.778923",
     "status": "completed"
    },
    "tags": []
   },
   "outputs": [],
   "source": [
    "# Tokenization and Padding\n",
    "max_vocab = 10000\n",
    "tokenizer = Tokenizer(num_words=max_vocab)\n",
    "tokenizer.fit_on_texts(X_train)"
   ]
  },
  {
   "cell_type": "code",
   "execution_count": 23,
   "id": "192d66ac",
   "metadata": {
    "execution": {
     "iopub.execute_input": "2024-06-14T18:58:02.629537Z",
     "iopub.status.busy": "2024-06-14T18:58:02.629216Z",
     "iopub.status.idle": "2024-06-14T19:00:36.716461Z",
     "shell.execute_reply": "2024-06-14T19:00:36.715617Z"
    },
    "papermill": {
     "duration": 154.104211,
     "end_time": "2024-06-14T19:00:36.719280",
     "exception": false,
     "start_time": "2024-06-14T18:58:02.615069",
     "status": "completed"
    },
    "tags": []
   },
   "outputs": [],
   "source": [
    "X_train_sequences = tokenizer.texts_to_sequences(X_train)\n",
    "X_test_sequences = tokenizer.texts_to_sequences(X_test)"
   ]
  },
  {
   "cell_type": "code",
   "execution_count": 24,
   "id": "1bdf4930",
   "metadata": {
    "execution": {
     "iopub.execute_input": "2024-06-14T19:00:36.747516Z",
     "iopub.status.busy": "2024-06-14T19:00:36.747184Z",
     "iopub.status.idle": "2024-06-14T19:00:42.924132Z",
     "shell.execute_reply": "2024-06-14T19:00:42.923109Z"
    },
    "papermill": {
     "duration": 6.193361,
     "end_time": "2024-06-14T19:00:42.926506",
     "exception": false,
     "start_time": "2024-06-14T19:00:36.733145",
     "status": "completed"
    },
    "tags": []
   },
   "outputs": [],
   "source": [
    "max_sequence_length = 128   # Set an appropriate value\n",
    "X_train_padded = pad_sequences(X_train_sequences, maxlen=max_sequence_length, padding='post')\n",
    "X_test_padded = pad_sequences(X_test_sequences, maxlen=max_sequence_length, padding='post')"
   ]
  },
  {
   "cell_type": "markdown",
   "id": "f921a46f",
   "metadata": {
    "papermill": {
     "duration": 0.012939,
     "end_time": "2024-06-14T19:00:42.953415",
     "exception": false,
     "start_time": "2024-06-14T19:00:42.940476",
     "status": "completed"
    },
    "tags": []
   },
   "source": [
    "### **LSTM**"
   ]
  },
  {
   "cell_type": "code",
   "execution_count": 25,
   "id": "8bb1c7ae",
   "metadata": {
    "execution": {
     "iopub.execute_input": "2024-06-14T19:00:42.980513Z",
     "iopub.status.busy": "2024-06-14T19:00:42.980175Z",
     "iopub.status.idle": "2024-06-14T19:00:44.246597Z",
     "shell.execute_reply": "2024-06-14T19:00:44.245745Z"
    },
    "papermill": {
     "duration": 1.282267,
     "end_time": "2024-06-14T19:00:44.248610",
     "exception": false,
     "start_time": "2024-06-14T19:00:42.966343",
     "status": "completed"
    },
    "tags": []
   },
   "outputs": [
    {
     "name": "stderr",
     "output_type": "stream",
     "text": [
      "/opt/conda/lib/python3.10/site-packages/keras/src/layers/core/embedding.py:90: UserWarning: Argument `input_length` is deprecated. Just remove it.\n",
      "  warnings.warn(\n"
     ]
    },
    {
     "data": {
      "text/html": [
       "<pre style=\"white-space:pre;overflow-x:auto;line-height:normal;font-family:Menlo,'DejaVu Sans Mono',consolas,'Courier New',monospace\"><span style=\"font-weight: bold\">Model: \"sequential\"</span>\n",
       "</pre>\n"
      ],
      "text/plain": [
       "\u001b[1mModel: \"sequential\"\u001b[0m\n"
      ]
     },
     "metadata": {},
     "output_type": "display_data"
    },
    {
     "data": {
      "text/html": [
       "<pre style=\"white-space:pre;overflow-x:auto;line-height:normal;font-family:Menlo,'DejaVu Sans Mono',consolas,'Courier New',monospace\">┏━━━━━━━━━━━━━━━━━━━━━━━━━━━━━━━━━┳━━━━━━━━━━━━━━━━━━━━━━━━┳━━━━━━━━━━━━━━━┓\n",
       "┃<span style=\"font-weight: bold\"> Layer (type)                    </span>┃<span style=\"font-weight: bold\"> Output Shape           </span>┃<span style=\"font-weight: bold\">       Param # </span>┃\n",
       "┡━━━━━━━━━━━━━━━━━━━━━━━━━━━━━━━━━╇━━━━━━━━━━━━━━━━━━━━━━━━╇━━━━━━━━━━━━━━━┩\n",
       "│ embedding (<span style=\"color: #0087ff; text-decoration-color: #0087ff\">Embedding</span>)           │ (<span style=\"color: #00d7ff; text-decoration-color: #00d7ff\">None</span>, <span style=\"color: #00af00; text-decoration-color: #00af00\">128</span>, <span style=\"color: #00af00; text-decoration-color: #00af00\">100</span>)       │   <span style=\"color: #00af00; text-decoration-color: #00af00\">182,524,300</span> │\n",
       "├─────────────────────────────────┼────────────────────────┼───────────────┤\n",
       "│ spatial_dropout1d               │ (<span style=\"color: #00d7ff; text-decoration-color: #00d7ff\">None</span>, <span style=\"color: #00af00; text-decoration-color: #00af00\">128</span>, <span style=\"color: #00af00; text-decoration-color: #00af00\">100</span>)       │             <span style=\"color: #00af00; text-decoration-color: #00af00\">0</span> │\n",
       "│ (<span style=\"color: #0087ff; text-decoration-color: #0087ff\">SpatialDropout1D</span>)              │                        │               │\n",
       "├─────────────────────────────────┼────────────────────────┼───────────────┤\n",
       "│ lstm (<span style=\"color: #0087ff; text-decoration-color: #0087ff\">LSTM</span>)                     │ (<span style=\"color: #00d7ff; text-decoration-color: #00d7ff\">None</span>, <span style=\"color: #00af00; text-decoration-color: #00af00\">128</span>, <span style=\"color: #00af00; text-decoration-color: #00af00\">64</span>)        │        <span style=\"color: #00af00; text-decoration-color: #00af00\">42,240</span> │\n",
       "├─────────────────────────────────┼────────────────────────┼───────────────┤\n",
       "│ lstm_1 (<span style=\"color: #0087ff; text-decoration-color: #0087ff\">LSTM</span>)                   │ (<span style=\"color: #00d7ff; text-decoration-color: #00d7ff\">None</span>, <span style=\"color: #00af00; text-decoration-color: #00af00\">64</span>)             │        <span style=\"color: #00af00; text-decoration-color: #00af00\">33,024</span> │\n",
       "├─────────────────────────────────┼────────────────────────┼───────────────┤\n",
       "│ dense (<span style=\"color: #0087ff; text-decoration-color: #0087ff\">Dense</span>)                   │ (<span style=\"color: #00d7ff; text-decoration-color: #00d7ff\">None</span>, <span style=\"color: #00af00; text-decoration-color: #00af00\">3</span>)              │           <span style=\"color: #00af00; text-decoration-color: #00af00\">195</span> │\n",
       "└─────────────────────────────────┴────────────────────────┴───────────────┘\n",
       "</pre>\n"
      ],
      "text/plain": [
       "┏━━━━━━━━━━━━━━━━━━━━━━━━━━━━━━━━━┳━━━━━━━━━━━━━━━━━━━━━━━━┳━━━━━━━━━━━━━━━┓\n",
       "┃\u001b[1m \u001b[0m\u001b[1mLayer (type)                   \u001b[0m\u001b[1m \u001b[0m┃\u001b[1m \u001b[0m\u001b[1mOutput Shape          \u001b[0m\u001b[1m \u001b[0m┃\u001b[1m \u001b[0m\u001b[1m      Param #\u001b[0m\u001b[1m \u001b[0m┃\n",
       "┡━━━━━━━━━━━━━━━━━━━━━━━━━━━━━━━━━╇━━━━━━━━━━━━━━━━━━━━━━━━╇━━━━━━━━━━━━━━━┩\n",
       "│ embedding (\u001b[38;5;33mEmbedding\u001b[0m)           │ (\u001b[38;5;45mNone\u001b[0m, \u001b[38;5;34m128\u001b[0m, \u001b[38;5;34m100\u001b[0m)       │   \u001b[38;5;34m182,524,300\u001b[0m │\n",
       "├─────────────────────────────────┼────────────────────────┼───────────────┤\n",
       "│ spatial_dropout1d               │ (\u001b[38;5;45mNone\u001b[0m, \u001b[38;5;34m128\u001b[0m, \u001b[38;5;34m100\u001b[0m)       │             \u001b[38;5;34m0\u001b[0m │\n",
       "│ (\u001b[38;5;33mSpatialDropout1D\u001b[0m)              │                        │               │\n",
       "├─────────────────────────────────┼────────────────────────┼───────────────┤\n",
       "│ lstm (\u001b[38;5;33mLSTM\u001b[0m)                     │ (\u001b[38;5;45mNone\u001b[0m, \u001b[38;5;34m128\u001b[0m, \u001b[38;5;34m64\u001b[0m)        │        \u001b[38;5;34m42,240\u001b[0m │\n",
       "├─────────────────────────────────┼────────────────────────┼───────────────┤\n",
       "│ lstm_1 (\u001b[38;5;33mLSTM\u001b[0m)                   │ (\u001b[38;5;45mNone\u001b[0m, \u001b[38;5;34m64\u001b[0m)             │        \u001b[38;5;34m33,024\u001b[0m │\n",
       "├─────────────────────────────────┼────────────────────────┼───────────────┤\n",
       "│ dense (\u001b[38;5;33mDense\u001b[0m)                   │ (\u001b[38;5;45mNone\u001b[0m, \u001b[38;5;34m3\u001b[0m)              │           \u001b[38;5;34m195\u001b[0m │\n",
       "└─────────────────────────────────┴────────────────────────┴───────────────┘\n"
      ]
     },
     "metadata": {},
     "output_type": "display_data"
    },
    {
     "data": {
      "text/html": [
       "<pre style=\"white-space:pre;overflow-x:auto;line-height:normal;font-family:Menlo,'DejaVu Sans Mono',consolas,'Courier New',monospace\"><span style=\"font-weight: bold\"> Total params: </span><span style=\"color: #00af00; text-decoration-color: #00af00\">182,599,759</span> (696.56 MB)\n",
       "</pre>\n"
      ],
      "text/plain": [
       "\u001b[1m Total params: \u001b[0m\u001b[38;5;34m182,599,759\u001b[0m (696.56 MB)\n"
      ]
     },
     "metadata": {},
     "output_type": "display_data"
    },
    {
     "data": {
      "text/html": [
       "<pre style=\"white-space:pre;overflow-x:auto;line-height:normal;font-family:Menlo,'DejaVu Sans Mono',consolas,'Courier New',monospace\"><span style=\"font-weight: bold\"> Trainable params: </span><span style=\"color: #00af00; text-decoration-color: #00af00\">182,599,759</span> (696.56 MB)\n",
       "</pre>\n"
      ],
      "text/plain": [
       "\u001b[1m Trainable params: \u001b[0m\u001b[38;5;34m182,599,759\u001b[0m (696.56 MB)\n"
      ]
     },
     "metadata": {},
     "output_type": "display_data"
    },
    {
     "data": {
      "text/html": [
       "<pre style=\"white-space:pre;overflow-x:auto;line-height:normal;font-family:Menlo,'DejaVu Sans Mono',consolas,'Courier New',monospace\"><span style=\"font-weight: bold\"> Non-trainable params: </span><span style=\"color: #00af00; text-decoration-color: #00af00\">0</span> (0.00 B)\n",
       "</pre>\n"
      ],
      "text/plain": [
       "\u001b[1m Non-trainable params: \u001b[0m\u001b[38;5;34m0\u001b[0m (0.00 B)\n"
      ]
     },
     "metadata": {},
     "output_type": "display_data"
    }
   ],
   "source": [
    "from keras.models import Sequential\n",
    "from keras.layers import Embedding, SpatialDropout1D, LSTM, Dense\n",
    "import tensorflow as tf\n",
    "import numpy as np\n",
    "\n",
    "# Assuming max_sequence_length and tokenizer are already defined\n",
    "max_sequence_length = 128\n",
    "vocab_size = len(tokenizer.word_index) + 1\n",
    "\n",
    "model = Sequential()\n",
    "model.add(Embedding(input_dim=vocab_size, output_dim=100, input_length=max_sequence_length))\n",
    "model.add(SpatialDropout1D(0.2))\n",
    "model.add(LSTM(units=64, return_sequences=True))\n",
    "model.add(LSTM(units=64))\n",
    "model.add(Dense(units=len(np.unique(y_encoded)), activation='softmax'))\n",
    "\n",
    "# Build the model\n",
    "model.build(input_shape=(None, max_sequence_length))\n",
    "\n",
    "# Compile the model\n",
    "model.compile(loss='sparse_categorical_crossentropy',\n",
    "              optimizer=tf.keras.optimizers.Adam(1e-4),\n",
    "              metrics=['accuracy'])\n",
    "\n",
    "# Print the model summary\n",
    "model.summary()\n"
   ]
  },
  {
   "cell_type": "code",
   "execution_count": 26,
   "id": "cd0f9de2",
   "metadata": {
    "execution": {
     "iopub.execute_input": "2024-06-14T19:00:44.277804Z",
     "iopub.status.busy": "2024-06-14T19:00:44.277527Z",
     "iopub.status.idle": "2024-06-14T20:02:07.262361Z",
     "shell.execute_reply": "2024-06-14T20:02:07.261331Z"
    },
    "papermill": {
     "duration": 3683.001837,
     "end_time": "2024-06-14T20:02:07.264595",
     "exception": false,
     "start_time": "2024-06-14T19:00:44.262758",
     "status": "completed"
    },
    "tags": []
   },
   "outputs": [
    {
     "name": "stdout",
     "output_type": "stream",
     "text": [
      "Epoch 1/10\n"
     ]
    },
    {
     "name": "stderr",
     "output_type": "stream",
     "text": [
      "/opt/conda/lib/python3.10/site-packages/tensorflow/python/framework/indexed_slices.py:446: UserWarning: Converting sparse IndexedSlices to a dense Tensor with 182524300 elements. This may consume a large amount of memory.\n",
      "  warnings.warn(\n"
     ]
    },
    {
     "name": "stdout",
     "output_type": "stream",
     "text": [
      "\u001b[1m6103/6103\u001b[0m \u001b[32m━━━━━━━━━━━━━━━━━━━━\u001b[0m\u001b[37m\u001b[0m \u001b[1m370s\u001b[0m 60ms/step - accuracy: 0.4720 - loss: 1.0102 - val_accuracy: 0.5978 - val_loss: 0.8433\n",
      "Epoch 2/10\n",
      "\u001b[1m6103/6103\u001b[0m \u001b[32m━━━━━━━━━━━━━━━━━━━━\u001b[0m\u001b[37m\u001b[0m \u001b[1m377s\u001b[0m 59ms/step - accuracy: 0.6141 - loss: 0.8190 - val_accuracy: 0.6382 - val_loss: 0.7737\n",
      "Epoch 3/10\n",
      "\u001b[1m6103/6103\u001b[0m \u001b[32m━━━━━━━━━━━━━━━━━━━━\u001b[0m\u001b[37m\u001b[0m \u001b[1m363s\u001b[0m 59ms/step - accuracy: 0.6487 - loss: 0.7644 - val_accuracy: 0.6494 - val_loss: 0.7648\n",
      "Epoch 4/10\n",
      "\u001b[1m6103/6103\u001b[0m \u001b[32m━━━━━━━━━━━━━━━━━━━━\u001b[0m\u001b[37m\u001b[0m \u001b[1m363s\u001b[0m 59ms/step - accuracy: 0.6674 - loss: 0.7373 - val_accuracy: 0.6688 - val_loss: 0.7295\n",
      "Epoch 5/10\n",
      "\u001b[1m6103/6103\u001b[0m \u001b[32m━━━━━━━━━━━━━━━━━━━━\u001b[0m\u001b[37m\u001b[0m \u001b[1m364s\u001b[0m 60ms/step - accuracy: 0.6956 - loss: 0.6852 - val_accuracy: 0.6818 - val_loss: 0.7020\n",
      "Epoch 6/10\n",
      "\u001b[1m6103/6103\u001b[0m \u001b[32m━━━━━━━━━━━━━━━━━━━━\u001b[0m\u001b[37m\u001b[0m \u001b[1m381s\u001b[0m 59ms/step - accuracy: 0.7030 - loss: 0.6663 - val_accuracy: 0.6894 - val_loss: 0.6893\n",
      "Epoch 7/10\n",
      "\u001b[1m6103/6103\u001b[0m \u001b[32m━━━━━━━━━━━━━━━━━━━━\u001b[0m\u001b[37m\u001b[0m \u001b[1m363s\u001b[0m 59ms/step - accuracy: 0.7131 - loss: 0.6450 - val_accuracy: 0.6864 - val_loss: 0.6891\n",
      "Epoch 8/10\n",
      "\u001b[1m6103/6103\u001b[0m \u001b[32m━━━━━━━━━━━━━━━━━━━━\u001b[0m\u001b[37m\u001b[0m \u001b[1m364s\u001b[0m 60ms/step - accuracy: 0.7204 - loss: 0.6322 - val_accuracy: 0.6961 - val_loss: 0.6761\n",
      "Epoch 9/10\n",
      "\u001b[1m6103/6103\u001b[0m \u001b[32m━━━━━━━━━━━━━━━━━━━━\u001b[0m\u001b[37m\u001b[0m \u001b[1m364s\u001b[0m 60ms/step - accuracy: 0.7288 - loss: 0.6185 - val_accuracy: 0.6957 - val_loss: 0.6734\n",
      "Epoch 10/10\n",
      "\u001b[1m6103/6103\u001b[0m \u001b[32m━━━━━━━━━━━━━━━━━━━━\u001b[0m\u001b[37m\u001b[0m \u001b[1m372s\u001b[0m 61ms/step - accuracy: 0.7368 - loss: 0.6012 - val_accuracy: 0.6999 - val_loss: 0.6614\n"
     ]
    },
    {
     "data": {
      "text/plain": [
       "<keras.src.callbacks.history.History at 0x7fc87f255210>"
      ]
     },
     "execution_count": 26,
     "metadata": {},
     "output_type": "execute_result"
    }
   ],
   "source": [
    "# Train the Model\n",
    "early_stop = tf.keras.callbacks.EarlyStopping(monitor='val_loss', patience=2, restore_best_weights=True)\n",
    "\n",
    "model.fit(X_train_padded, y_train, epochs=10, validation_split=0.2, batch_size=64, shuffle=True, callbacks=[early_stop])"
   ]
  },
  {
   "cell_type": "code",
   "execution_count": 27,
   "id": "5079e50f",
   "metadata": {
    "execution": {
     "iopub.execute_input": "2024-06-14T20:02:17.676554Z",
     "iopub.status.busy": "2024-06-14T20:02:17.675582Z",
     "iopub.status.idle": "2024-06-14T20:02:21.952934Z",
     "shell.execute_reply": "2024-06-14T20:02:21.951817Z"
    },
    "papermill": {
     "duration": 9.464831,
     "end_time": "2024-06-14T20:02:21.955502",
     "exception": false,
     "start_time": "2024-06-14T20:02:12.490671",
     "status": "completed"
    },
    "tags": []
   },
   "outputs": [],
   "source": [
    "# Save the model\n",
    "model.save('lstm_model.h5')"
   ]
  },
  {
   "cell_type": "code",
   "execution_count": 28,
   "id": "2a597b7a",
   "metadata": {
    "execution": {
     "iopub.execute_input": "2024-06-14T20:02:32.653184Z",
     "iopub.status.busy": "2024-06-14T20:02:32.652828Z",
     "iopub.status.idle": "2024-06-14T20:02:54.233366Z",
     "shell.execute_reply": "2024-06-14T20:02:54.232450Z"
    },
    "papermill": {
     "duration": 26.871931,
     "end_time": "2024-06-14T20:02:54.235651",
     "exception": false,
     "start_time": "2024-06-14T20:02:27.363720",
     "status": "completed"
    },
    "tags": []
   },
   "outputs": [
    {
     "name": "stdout",
     "output_type": "stream",
     "text": [
      "\u001b[1m3815/3815\u001b[0m \u001b[32m━━━━━━━━━━━━━━━━━━━━\u001b[0m\u001b[37m\u001b[0m \u001b[1m19s\u001b[0m 5ms/step\n",
      "Test Accuracy: 0.6971\n"
     ]
    }
   ],
   "source": [
    "# Evaluate the Model\n",
    "y_pred_probs = model.predict(X_test_padded)\n",
    "y_pred = np.argmax(y_pred_probs, axis=1)\n",
    "\n",
    "accuracy = accuracy_score(y_test, y_pred)\n",
    "print(f\"Test Accuracy: {accuracy:.4f}\")"
   ]
  },
  {
   "cell_type": "code",
   "execution_count": 29,
   "id": "8b56db6c",
   "metadata": {
    "execution": {
     "iopub.execute_input": "2024-06-14T20:03:04.689293Z",
     "iopub.status.busy": "2024-06-14T20:03:04.688821Z",
     "iopub.status.idle": "2024-06-14T20:03:04.752244Z",
     "shell.execute_reply": "2024-06-14T20:03:04.751166Z"
    },
    "papermill": {
     "duration": 5.206386,
     "end_time": "2024-06-14T20:03:04.754463",
     "exception": false,
     "start_time": "2024-06-14T20:02:59.548077",
     "status": "completed"
    },
    "tags": []
   },
   "outputs": [
    {
     "name": "stdout",
     "output_type": "stream",
     "text": [
      "              precision    recall  f1-score   support\n",
      "\n",
      "           0       0.74      0.73      0.73     41874\n",
      "           1       0.63      0.60      0.61     33534\n",
      "           2       0.71      0.74      0.73     46642\n",
      "\n",
      "    accuracy                           0.70    122050\n",
      "   macro avg       0.69      0.69      0.69    122050\n",
      "weighted avg       0.70      0.70      0.70    122050\n",
      "\n"
     ]
    }
   ],
   "source": [
    "# Evaluate other metrics\n",
    "print(classification_report(y_test, y_pred))"
   ]
  },
  {
   "cell_type": "code",
   "execution_count": 30,
   "id": "e8d49792",
   "metadata": {
    "execution": {
     "iopub.execute_input": "2024-06-14T20:03:15.245815Z",
     "iopub.status.busy": "2024-06-14T20:03:15.245116Z",
     "iopub.status.idle": "2024-06-14T20:03:15.562795Z",
     "shell.execute_reply": "2024-06-14T20:03:15.561862Z"
    },
    "papermill": {
     "duration": 5.545056,
     "end_time": "2024-06-14T20:03:15.564823",
     "exception": false,
     "start_time": "2024-06-14T20:03:10.019767",
     "status": "completed"
    },
    "tags": []
   },
   "outputs": [
    {
     "data": {
      "image/png": "[encoded data removed]",
      "text/plain": [
       "<Figure size 800x600 with 2 Axes>"
      ]
     },
     "metadata": {},
     "output_type": "display_data"
    }
   ],
   "source": [
    "# Confusion Matrix\n",
    "conf_matrix = confusion_matrix(y_test, y_pred)\n",
    "\n",
    "# Plot Confusion Matrix\n",
    "plt.figure(figsize=(8, 6))\n",
    "sns.heatmap(conf_matrix, annot=True, fmt='d', cmap='Blues', xticklabels=label_encoder.classes_, yticklabels=label_encoder.classes_)\n",
    "plt.xlabel('Predicted Labels')\n",
    "plt.ylabel('True Labels')\n",
    "plt.title('Confusion Matrix')\n",
    "plt.show()"
   ]
  },
  {
   "cell_type": "markdown",
   "id": "7492a11a",
   "metadata": {
    "papermill": {
     "duration": 5.266933,
     "end_time": "2024-06-14T20:03:26.136599",
     "exception": false,
     "start_time": "2024-06-14T20:03:20.869666",
     "status": "completed"
    },
    "tags": []
   },
   "source": [
    "### **Naive Bayes**"
   ]
  },
  {
   "cell_type": "code",
   "execution_count": 31,
   "id": "6cac0f22",
   "metadata": {
    "execution": {
     "iopub.execute_input": "2024-06-14T20:03:36.484203Z",
     "iopub.status.busy": "2024-06-14T20:03:36.483311Z",
     "iopub.status.idle": "2024-06-14T20:06:20.336096Z",
     "shell.execute_reply": "2024-06-14T20:06:20.335062Z"
    },
    "papermill": {
     "duration": 174.315069,
     "end_time": "2024-06-14T20:06:25.557830",
     "exception": false,
     "start_time": "2024-06-14T20:03:31.242761",
     "status": "completed"
    },
    "tags": []
   },
   "outputs": [
    {
     "name": "stdout",
     "output_type": "stream",
     "text": [
      "Naive Bayes Test Accuracy: 0.5657\n",
      "Naive Bayes Classification Report:\n",
      "               precision    recall  f1-score   support\n",
      "\n",
      "           0       0.56      0.62      0.59     41874\n",
      "           1       0.55      0.34      0.42     33534\n",
      "           2       0.57      0.68      0.62     46642\n",
      "\n",
      "    accuracy                           0.57    122050\n",
      "   macro avg       0.56      0.55      0.54    122050\n",
      "weighted avg       0.56      0.57      0.56    122050\n",
      "\n"
     ]
    }
   ],
   "source": [
    "from sklearn.feature_extraction.text import TfidfVectorizer\n",
    "from sklearn.naive_bayes import MultinomialNB\n",
    "\n",
    "\n",
    "# Naive Bayes Model\n",
    "tfidf_vectorizer = TfidfVectorizer(max_features=5000)\n",
    "X_train_tfidf = tfidf_vectorizer.fit_transform(X_train)\n",
    "X_test_tfidf = tfidf_vectorizer.transform(X_test)\n",
    "\n",
    "nb_model = MultinomialNB()\n",
    "nb_model.fit(X_train_tfidf, y_train)\n",
    "\n",
    "y_pred_nb = nb_model.predict(X_test_tfidf)\n",
    "accuracy_nb = accuracy_score(y_test, y_pred_nb)\n",
    "print(f\"Naive Bayes Test Accuracy: {accuracy_nb:.4f}\")\n",
    "print(\"Naive Bayes Classification Report:\\n\", classification_report(y_test, y_pred_nb))"
   ]
  },
  {
   "cell_type": "code",
   "execution_count": 32,
   "id": "18d433cc",
   "metadata": {
    "execution": {
     "iopub.execute_input": "2024-06-14T20:06:36.063689Z",
     "iopub.status.busy": "2024-06-14T20:06:36.063308Z",
     "iopub.status.idle": "2024-06-14T20:06:36.386236Z",
     "shell.execute_reply": "2024-06-14T20:06:36.385177Z"
    },
    "papermill": {
     "duration": 5.582675,
     "end_time": "2024-06-14T20:06:36.388520",
     "exception": false,
     "start_time": "2024-06-14T20:06:30.805845",
     "status": "completed"
    },
    "tags": []
   },
   "outputs": [
    {
     "data": {
      "image/png": "[encoded data removed]",
      "text/plain": [
       "<Figure size 800x600 with 2 Axes>"
      ]
     },
     "metadata": {},
     "output_type": "display_data"
    }
   ],
   "source": [
    "# Confusion Matrix for Naive Bayes Model\n",
    "conf_matrix_nb = confusion_matrix(y_test, y_pred_nb)\n",
    "plt.figure(figsize=(8, 6))\n",
    "sns.heatmap(conf_matrix_nb, annot=True, fmt='d', cmap='Blues', xticklabels=label_encoder.classes_, yticklabels=label_encoder.classes_)\n",
    "plt.xlabel('Predicted Labels')\n",
    "plt.ylabel('True Labels')\n",
    "plt.title('Naive Bayes Confusion Matrix')\n",
    "plt.show()"
   ]
  },
  {
   "cell_type": "markdown",
   "id": "af4ce886",
   "metadata": {
    "papermill": {
     "duration": 5.150722,
     "end_time": "2024-06-14T20:06:46.766309",
     "exception": false,
     "start_time": "2024-06-14T20:06:41.615587",
     "status": "completed"
    },
    "tags": []
   },
   "source": [
    "### **SVM**"
   ]
  },
  {
   "cell_type": "code",
   "execution_count": 33,
   "id": "3f0aabb3",
   "metadata": {
    "execution": {
     "iopub.execute_input": "2024-06-14T20:06:57.300243Z",
     "iopub.status.busy": "2024-06-14T20:06:57.299216Z",
     "iopub.status.idle": "2024-06-14T20:08:05.206853Z",
     "shell.execute_reply": "2024-06-14T20:08:05.205805Z"
    },
    "papermill": {
     "duration": 78.446081,
     "end_time": "2024-06-14T20:08:10.431211",
     "exception": false,
     "start_time": "2024-06-14T20:06:51.985130",
     "status": "completed"
    },
    "tags": []
   },
   "outputs": [
    {
     "name": "stdout",
     "output_type": "stream",
     "text": [
      "SVM Test Accuracy: 0.6719\n",
      "SVM Classification Report:\n",
      "               precision    recall  f1-score   support\n",
      "\n",
      "           0       0.69      0.71      0.70     41874\n",
      "           1       0.65      0.50      0.56     33534\n",
      "           2       0.66      0.76      0.71     46642\n",
      "\n",
      "    accuracy                           0.67    122050\n",
      "   macro avg       0.67      0.66      0.66    122050\n",
      "weighted avg       0.67      0.67      0.67    122050\n",
      "\n"
     ]
    }
   ],
   "source": [
    "from sklearn.svm import LinearSVC\n",
    "# SVM Model\n",
    "svm_model = LinearSVC()\n",
    "svm_model.fit(X_train_tfidf, y_train)\n",
    "\n",
    "y_pred_svm = svm_model.predict(X_test_tfidf)\n",
    "accuracy_svm = accuracy_score(y_test, y_pred_svm)\n",
    "print(f\"SVM Test Accuracy: {accuracy_svm:.4f}\")\n",
    "print(\"SVM Classification Report:\\n\", classification_report(y_test, y_pred_svm))"
   ]
  },
  {
   "cell_type": "code",
   "execution_count": 34,
   "id": "63e6628d",
   "metadata": {
    "execution": {
     "iopub.execute_input": "2024-06-14T20:08:20.743941Z",
     "iopub.status.busy": "2024-06-14T20:08:20.743600Z",
     "iopub.status.idle": "2024-06-14T20:08:21.085086Z",
     "shell.execute_reply": "2024-06-14T20:08:21.084222Z"
    },
    "papermill": {
     "duration": 5.543277,
     "end_time": "2024-06-14T20:08:21.087453",
     "exception": false,
     "start_time": "2024-06-14T20:08:15.544176",
     "status": "completed"
    },
    "tags": []
   },
   "outputs": [
    {
     "data": {
      "image/png": "[encoded data removed]",
      "text/plain": [
       "<Figure size 800x600 with 2 Axes>"
      ]
     },
     "metadata": {},
     "output_type": "display_data"
    }
   ],
   "source": [
    "# Confusion Matrix for SVM Model\n",
    "conf_matrix_svm = confusion_matrix(y_test, y_pred_svm)\n",
    "plt.figure(figsize=(8, 6))\n",
    "sns.heatmap(conf_matrix_svm, annot=True, fmt='d', cmap='Blues', xticklabels=label_encoder.classes_, yticklabels=label_encoder.classes_)\n",
    "plt.xlabel('Predicted Labels')\n",
    "plt.ylabel('True Labels')\n",
    "plt.title('SVM Confusion Matrix')\n",
    "plt.show()"
   ]
  }
 ],
 "metadata": {
  "kaggle": {
   "accelerator": "gpu",
   "dataSources": [
    {
     "datasetId": 2172390,
     "sourceId": 3626327,
     "sourceType": "datasetVersion"
    },
    {
     "datasetId": 5124614,
     "sourceId": 8570593,
     "sourceType": "datasetVersion"
    }
   ],
   "dockerImageVersionId": 30716,
   "isGpuEnabled": true,
   "isInternetEnabled": true,
   "language": "python",
   "sourceType": "notebook"
  },
  "kernelspec": {
   "display_name": "Python 3",
   "language": "python",
   "name": "python3"
  },
  "language_info": {
   "codemirror_mode": {
    "name": "ipython",
    "version": 3
   },
   "file_extension": ".py",
   "mimetype": "text/x-python",
   "name": "python",
   "nbconvert_exporter": "python",
   "pygments_lexer": "ipython3",
   "version": "3.10.13"
  },
  "papermill": {
   "default_parameters": {},
   "duration": 4481.828356,
   "end_time": "2024-06-14T20:08:29.422712",
   "environment_variables": {},
   "exception": null,
   "input_path": "__notebook__.ipynb",
   "output_path": "__notebook__.ipynb",
   "parameters": {},
   "start_time": "2024-06-14T18:53:47.594356",
   "version": "2.5.0"
  }
 },
 "nbformat": 4,
 "nbformat_minor": 5
}
